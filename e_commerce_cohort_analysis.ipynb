{
  "nbformat": 4,
  "nbformat_minor": 0,
  "metadata": {
    "colab": {
      "name": "e-commerce_cohort_analysis.ipynb",
      "provenance": [],
      "collapsed_sections": []
    },
    "kernelspec": {
      "name": "python3",
      "display_name": "Python 3"
    }
  },
  "cells": [
    {
      "cell_type": "markdown",
      "metadata": {
        "id": "ldQNK3bJjpTr"
      },
      "source": [
        "# e-Commerce and Cohort Analysis"
      ]
    },
    {
      "cell_type": "code",
      "metadata": {
        "id": "ZU0_9XVmj2j1"
      },
      "source": [
        "import pandas as pd\r\n",
        "import numpy as np\r\n",
        "import matplotlib.pyplot as plt\r\n",
        "import seaborn as sns"
      ],
      "execution_count": 1,
      "outputs": []
    },
    {
      "cell_type": "markdown",
      "metadata": {
        "id": "juOJvUayjirF"
      },
      "source": [
        "## Reading the Data"
      ]
    },
    {
      "cell_type": "code",
      "metadata": {
        "id": "q-9Y8gZ6kLpf"
      },
      "source": [
        "df = pd.read_csv('data.csv', encoding = 'unicode_escape')"
      ],
      "execution_count": 2,
      "outputs": []
    },
    {
      "cell_type": "code",
      "metadata": {
        "colab": {
          "base_uri": "https://localhost:8080/",
          "height": 204
        },
        "id": "4Hu-xDsDkSjz",
        "outputId": "70a34c73-6606-4c94-d0f7-cb78b5b676a0"
      },
      "source": [
        "df.head()"
      ],
      "execution_count": 3,
      "outputs": [
        {
          "output_type": "execute_result",
          "data": {
            "text/html": [
              "<div>\n",
              "<style scoped>\n",
              "    .dataframe tbody tr th:only-of-type {\n",
              "        vertical-align: middle;\n",
              "    }\n",
              "\n",
              "    .dataframe tbody tr th {\n",
              "        vertical-align: top;\n",
              "    }\n",
              "\n",
              "    .dataframe thead th {\n",
              "        text-align: right;\n",
              "    }\n",
              "</style>\n",
              "<table border=\"1\" class=\"dataframe\">\n",
              "  <thead>\n",
              "    <tr style=\"text-align: right;\">\n",
              "      <th></th>\n",
              "      <th>InvoiceNo</th>\n",
              "      <th>StockCode</th>\n",
              "      <th>Description</th>\n",
              "      <th>Quantity</th>\n",
              "      <th>InvoiceDate</th>\n",
              "      <th>UnitPrice</th>\n",
              "      <th>CustomerID</th>\n",
              "      <th>Country</th>\n",
              "    </tr>\n",
              "  </thead>\n",
              "  <tbody>\n",
              "    <tr>\n",
              "      <th>0</th>\n",
              "      <td>536365</td>\n",
              "      <td>85123A</td>\n",
              "      <td>WHITE HANGING HEART T-LIGHT HOLDER</td>\n",
              "      <td>6</td>\n",
              "      <td>12/1/2010 8:26</td>\n",
              "      <td>2.55</td>\n",
              "      <td>17850.0</td>\n",
              "      <td>United Kingdom</td>\n",
              "    </tr>\n",
              "    <tr>\n",
              "      <th>1</th>\n",
              "      <td>536365</td>\n",
              "      <td>71053</td>\n",
              "      <td>WHITE METAL LANTERN</td>\n",
              "      <td>6</td>\n",
              "      <td>12/1/2010 8:26</td>\n",
              "      <td>3.39</td>\n",
              "      <td>17850.0</td>\n",
              "      <td>United Kingdom</td>\n",
              "    </tr>\n",
              "    <tr>\n",
              "      <th>2</th>\n",
              "      <td>536365</td>\n",
              "      <td>84406B</td>\n",
              "      <td>CREAM CUPID HEARTS COAT HANGER</td>\n",
              "      <td>8</td>\n",
              "      <td>12/1/2010 8:26</td>\n",
              "      <td>2.75</td>\n",
              "      <td>17850.0</td>\n",
              "      <td>United Kingdom</td>\n",
              "    </tr>\n",
              "    <tr>\n",
              "      <th>3</th>\n",
              "      <td>536365</td>\n",
              "      <td>84029G</td>\n",
              "      <td>KNITTED UNION FLAG HOT WATER BOTTLE</td>\n",
              "      <td>6</td>\n",
              "      <td>12/1/2010 8:26</td>\n",
              "      <td>3.39</td>\n",
              "      <td>17850.0</td>\n",
              "      <td>United Kingdom</td>\n",
              "    </tr>\n",
              "    <tr>\n",
              "      <th>4</th>\n",
              "      <td>536365</td>\n",
              "      <td>84029E</td>\n",
              "      <td>RED WOOLLY HOTTIE WHITE HEART.</td>\n",
              "      <td>6</td>\n",
              "      <td>12/1/2010 8:26</td>\n",
              "      <td>3.39</td>\n",
              "      <td>17850.0</td>\n",
              "      <td>United Kingdom</td>\n",
              "    </tr>\n",
              "  </tbody>\n",
              "</table>\n",
              "</div>"
            ],
            "text/plain": [
              "  InvoiceNo StockCode  ... CustomerID         Country\n",
              "0    536365    85123A  ...    17850.0  United Kingdom\n",
              "1    536365     71053  ...    17850.0  United Kingdom\n",
              "2    536365    84406B  ...    17850.0  United Kingdom\n",
              "3    536365    84029G  ...    17850.0  United Kingdom\n",
              "4    536365    84029E  ...    17850.0  United Kingdom\n",
              "\n",
              "[5 rows x 8 columns]"
            ]
          },
          "metadata": {
            "tags": []
          },
          "execution_count": 3
        }
      ]
    },
    {
      "cell_type": "code",
      "metadata": {
        "colab": {
          "base_uri": "https://localhost:8080/"
        },
        "id": "36UniYOImkeI",
        "outputId": "d6190d7f-62f5-4836-9cd4-76013608282d"
      },
      "source": [
        "df.shape"
      ],
      "execution_count": 4,
      "outputs": [
        {
          "output_type": "execute_result",
          "data": {
            "text/plain": [
              "(541909, 8)"
            ]
          },
          "metadata": {
            "tags": []
          },
          "execution_count": 4
        }
      ]
    },
    {
      "cell_type": "code",
      "metadata": {
        "colab": {
          "base_uri": "https://localhost:8080/"
        },
        "id": "WbMantkpnkGt",
        "outputId": "1917cda5-30e1-4676-f406-79f36dac7fbf"
      },
      "source": [
        "# check duplicates in the data\r\n",
        "df.duplicated().value_counts()"
      ],
      "execution_count": 5,
      "outputs": [
        {
          "output_type": "execute_result",
          "data": {
            "text/plain": [
              "False    536641\n",
              "True       5268\n",
              "dtype: int64"
            ]
          },
          "metadata": {
            "tags": []
          },
          "execution_count": 5
        }
      ]
    },
    {
      "cell_type": "markdown",
      "metadata": {
        "id": "OSqMAkErn3gC"
      },
      "source": [
        "There are 5268 duplicates in the data. Let's remove those duplicates. "
      ]
    },
    {
      "cell_type": "code",
      "metadata": {
        "colab": {
          "base_uri": "https://localhost:8080/"
        },
        "id": "H2WAL4K8o4Wm",
        "outputId": "a4b8f97b-d549-4c3d-de71-923c74a39859"
      },
      "source": [
        "df = df.drop_duplicates()\r\n",
        "df.shape"
      ],
      "execution_count": 6,
      "outputs": [
        {
          "output_type": "execute_result",
          "data": {
            "text/plain": [
              "(536641, 8)"
            ]
          },
          "metadata": {
            "tags": []
          },
          "execution_count": 6
        }
      ]
    },
    {
      "cell_type": "markdown",
      "metadata": {
        "id": "hu8kfZtikAdX"
      },
      "source": [
        "The followings are the explanation of the UIC  Machine Learning Repository about each column:\r\n",
        "\r\n",
        "\r\n",
        "* InvoiceNo: Invoice number. Nominal, a 6-digit integral number uniquely assigned to each transaction. If this code starts with letter 'C', it indicates a cancellation.\r\n",
        "* StockCode: Product (item) code. Nominal, a 5-digit integral number uniquely assigned to each distinct product.\r\n",
        "* Description: Product (item) name. Nominal. \r\n",
        "* Quantity: The quantities of each product (item) per transaction. Numeric.\r\n",
        "* InvoiceDate: Invice Date and time. Numeric, the day and time when each transaction was generated.\r\n",
        "* UnitPrice: Unit price. Numeric, Product price per unit in sterling.\r\n",
        "* CustomerID: Customer number. Nominal, a 5-digit integral number uniquely assigned to each customer.\r\n",
        "* Country: Country name. Nominal, the name of the country where each customer resides."
      ]
    },
    {
      "cell_type": "markdown",
      "metadata": {
        "id": "FNRW-R3Bl3xl"
      },
      "source": [
        "## EDA"
      ]
    },
    {
      "cell_type": "markdown",
      "metadata": {
        "id": "1sHgOArnePRm"
      },
      "source": [
        "### InvoiceNo, StockCode, and CustomerID"
      ]
    },
    {
      "cell_type": "markdown",
      "metadata": {
        "id": "bUqIi1JNuMO1"
      },
      "source": [
        "Since the InvoiceNo which starts with the letter 'C' indicates the cancellation of the transaction, the observations of InvoiceNo with the letter 'C' are removed from the data "
      ]
    },
    {
      "cell_type": "code",
      "metadata": {
        "colab": {
          "base_uri": "https://localhost:8080/",
          "height": 204
        },
        "id": "DXOaMSQ0uLWw",
        "outputId": "cc74ad01-6936-4d84-e00f-665288931512"
      },
      "source": [
        "df[df.InvoiceNo.str.contains('C')].head()"
      ],
      "execution_count": 7,
      "outputs": [
        {
          "output_type": "execute_result",
          "data": {
            "text/html": [
              "<div>\n",
              "<style scoped>\n",
              "    .dataframe tbody tr th:only-of-type {\n",
              "        vertical-align: middle;\n",
              "    }\n",
              "\n",
              "    .dataframe tbody tr th {\n",
              "        vertical-align: top;\n",
              "    }\n",
              "\n",
              "    .dataframe thead th {\n",
              "        text-align: right;\n",
              "    }\n",
              "</style>\n",
              "<table border=\"1\" class=\"dataframe\">\n",
              "  <thead>\n",
              "    <tr style=\"text-align: right;\">\n",
              "      <th></th>\n",
              "      <th>InvoiceNo</th>\n",
              "      <th>StockCode</th>\n",
              "      <th>Description</th>\n",
              "      <th>Quantity</th>\n",
              "      <th>InvoiceDate</th>\n",
              "      <th>UnitPrice</th>\n",
              "      <th>CustomerID</th>\n",
              "      <th>Country</th>\n",
              "    </tr>\n",
              "  </thead>\n",
              "  <tbody>\n",
              "    <tr>\n",
              "      <th>141</th>\n",
              "      <td>C536379</td>\n",
              "      <td>D</td>\n",
              "      <td>Discount</td>\n",
              "      <td>-1</td>\n",
              "      <td>12/1/2010 9:41</td>\n",
              "      <td>27.50</td>\n",
              "      <td>14527.0</td>\n",
              "      <td>United Kingdom</td>\n",
              "    </tr>\n",
              "    <tr>\n",
              "      <th>154</th>\n",
              "      <td>C536383</td>\n",
              "      <td>35004C</td>\n",
              "      <td>SET OF 3 COLOURED  FLYING DUCKS</td>\n",
              "      <td>-1</td>\n",
              "      <td>12/1/2010 9:49</td>\n",
              "      <td>4.65</td>\n",
              "      <td>15311.0</td>\n",
              "      <td>United Kingdom</td>\n",
              "    </tr>\n",
              "    <tr>\n",
              "      <th>235</th>\n",
              "      <td>C536391</td>\n",
              "      <td>22556</td>\n",
              "      <td>PLASTERS IN TIN CIRCUS PARADE</td>\n",
              "      <td>-12</td>\n",
              "      <td>12/1/2010 10:24</td>\n",
              "      <td>1.65</td>\n",
              "      <td>17548.0</td>\n",
              "      <td>United Kingdom</td>\n",
              "    </tr>\n",
              "    <tr>\n",
              "      <th>236</th>\n",
              "      <td>C536391</td>\n",
              "      <td>21984</td>\n",
              "      <td>PACK OF 12 PINK PAISLEY TISSUES</td>\n",
              "      <td>-24</td>\n",
              "      <td>12/1/2010 10:24</td>\n",
              "      <td>0.29</td>\n",
              "      <td>17548.0</td>\n",
              "      <td>United Kingdom</td>\n",
              "    </tr>\n",
              "    <tr>\n",
              "      <th>237</th>\n",
              "      <td>C536391</td>\n",
              "      <td>21983</td>\n",
              "      <td>PACK OF 12 BLUE PAISLEY TISSUES</td>\n",
              "      <td>-24</td>\n",
              "      <td>12/1/2010 10:24</td>\n",
              "      <td>0.29</td>\n",
              "      <td>17548.0</td>\n",
              "      <td>United Kingdom</td>\n",
              "    </tr>\n",
              "  </tbody>\n",
              "</table>\n",
              "</div>"
            ],
            "text/plain": [
              "    InvoiceNo StockCode  ... CustomerID         Country\n",
              "141   C536379         D  ...    14527.0  United Kingdom\n",
              "154   C536383    35004C  ...    15311.0  United Kingdom\n",
              "235   C536391     22556  ...    17548.0  United Kingdom\n",
              "236   C536391     21984  ...    17548.0  United Kingdom\n",
              "237   C536391     21983  ...    17548.0  United Kingdom\n",
              "\n",
              "[5 rows x 8 columns]"
            ]
          },
          "metadata": {
            "tags": []
          },
          "execution_count": 7
        }
      ]
    },
    {
      "cell_type": "code",
      "metadata": {
        "colab": {
          "base_uri": "https://localhost:8080/"
        },
        "id": "Cxg8peOevYpY",
        "outputId": "4a328d13-3191-4572-c0ee-8cc36adbfa6f"
      },
      "source": [
        "df.InvoiceNo.str.contains('C').sum()"
      ],
      "execution_count": 9,
      "outputs": [
        {
          "output_type": "execute_result",
          "data": {
            "text/plain": [
              "9251"
            ]
          },
          "metadata": {
            "tags": []
          },
          "execution_count": 9
        }
      ]
    },
    {
      "cell_type": "markdown",
      "metadata": {
        "id": "JMXOFyJ9vgoY"
      },
      "source": [
        "Out of 536641 observations, 9251 observations are the cancelled transactions, and they will be dropped out of the analysis."
      ]
    },
    {
      "cell_type": "code",
      "metadata": {
        "id": "7CTFkHxSvw7y"
      },
      "source": [
        "df = df[~df.InvoiceNo.str.contains('C')]"
      ],
      "execution_count": 10,
      "outputs": []
    },
    {
      "cell_type": "markdown",
      "metadata": {
        "id": "QfF5HG-Tw_AF"
      },
      "source": [
        "Let's see the numbers of unique values for each column."
      ]
    },
    {
      "cell_type": "code",
      "metadata": {
        "colab": {
          "base_uri": "https://localhost:8080/"
        },
        "id": "tB1-d0HRmAIz",
        "outputId": "562932a4-b7f0-4f64-db7d-4f05a76c334c"
      },
      "source": [
        "print(\"The Number of Orders:\", len(df.InvoiceNo.unique()))\r\n",
        "print(\"The Number of Products:\", len(df.StockCode.unique()))\r\n",
        "print(\"The Number of Customers:\", len(df.CustomerID.unique()))"
      ],
      "execution_count": 11,
      "outputs": [
        {
          "output_type": "stream",
          "text": [
            "The Number of Orders: 22064\n",
            "The Number of Products: 4059\n",
            "The Number of Customers: 4340\n"
          ],
          "name": "stdout"
        }
      ]
    },
    {
      "cell_type": "code",
      "metadata": {
        "colab": {
          "base_uri": "https://localhost:8080/",
          "height": 407
        },
        "id": "uDDncKdCpcL3",
        "outputId": "f969a8cd-39f7-4eb4-e440-edce44833432"
      },
      "source": [
        "columns = ['Orders','Products','Customers']\r\n",
        "values = [len(df.InvoiceNo.unique()),len(df.StockCode.unique()),len(df.CustomerID.unique())]\r\n",
        "\r\n",
        "plt.figure(figsize=(8,6))\r\n",
        "plt.bar(columns, values, color=['red','blue','green'])\r\n",
        "plt.ylabel('Counts')\r\n",
        "plt.title('The Numbers of Orders, Products, and Customers')"
      ],
      "execution_count": 12,
      "outputs": [
        {
          "output_type": "execute_result",
          "data": {
            "text/plain": [
              "Text(0.5, 1.0, 'The Numbers of Orders, Products, and Customers')"
            ]
          },
          "metadata": {
            "tags": []
          },
          "execution_count": 12
        },
        {
          "output_type": "display_data",
          "data": {
            "image/png": "[encoded data removed]",
            "text/plain": [
              "<Figure size 576x432 with 1 Axes>"
            ]
          },
          "metadata": {
            "tags": [],
            "needs_background": "light"
          }
        }
      ]
    },
    {
      "cell_type": "code",
      "metadata": {
        "colab": {
          "base_uri": "https://localhost:8080/"
        },
        "id": "tRrsEHw2AWXb",
        "outputId": "a263c6f7-d365-4ee8-93b2-4cbc12c38ce2"
      },
      "source": [
        "# the average orders per customer and product\r\n",
        "avg_orders_customer = len(df.InvoiceNo.unique())/len(df.CustomerID.unique())\r\n",
        "avg_orders_product = len(df.InvoiceNo.unique())/len(df.StockCode.unique())\r\n",
        "print(\"The average orders per customer:\", round(avg_orders_customer,2))\r\n",
        "print(\"The average orders per product:\", round(avg_orders_product,2))"
      ],
      "execution_count": 13,
      "outputs": [
        {
          "output_type": "stream",
          "text": [
            "The average orders per customer: 5.08\n",
            "The average orders per product: 5.44\n"
          ],
          "name": "stdout"
        }
      ]
    },
    {
      "cell_type": "markdown",
      "metadata": {
        "id": "S_xoL1onBhB8"
      },
      "source": [
        "In the whole data set, the average orders per customer is 5.08, and the average orders per product is 5.44, which mean that each customer made 5.08 orders on average, and that each product was ordered 5.44 times on average. (The cancelled transcations are excluded.)"
      ]
    },
    {
      "cell_type": "markdown",
      "metadata": {
        "id": "T33Ga7CJCQFP"
      },
      "source": [
        "### Price and Quantity"
      ]
    },
    {
      "cell_type": "markdown",
      "metadata": {
        "id": "4ozGP52JPX4U"
      },
      "source": [
        "Let's see the distribution of UnitPrice. Since the data is based on the Invoice Numbers and there are many duplicates for UnitPrice, we need to remove duplicates in UnitPrice in order to see the distribution of UnitPrice."
      ]
    },
    {
      "cell_type": "code",
      "metadata": {
        "colab": {
          "base_uri": "https://localhost:8080/"
        },
        "id": "hYowPwRsJLdA",
        "outputId": "506a48bd-a6a8-4f9b-c424-dd14d1b2d486"
      },
      "source": [
        "df_product = df.drop_duplicates('StockCode')\r\n",
        "df_product['UnitPrice'].describe()"
      ],
      "execution_count": 14,
      "outputs": [
        {
          "output_type": "execute_result",
          "data": {
            "text/plain": [
              "count     4059.000000\n",
              "mean        10.239251\n",
              "std        274.607327\n",
              "min          0.000000\n",
              "25%          1.250000\n",
              "50%          2.510000\n",
              "75%          4.250000\n",
              "max      13541.330000\n",
              "Name: UnitPrice, dtype: float64"
            ]
          },
          "metadata": {
            "tags": []
          },
          "execution_count": 14
        }
      ]
    },
    {
      "cell_type": "code",
      "metadata": {
        "colab": {
          "base_uri": "https://localhost:8080/",
          "height": 459
        },
        "id": "WEVCjlHOTwzZ",
        "outputId": "ecd5aea1-d3f4-4487-9ae9-3345a6110d6f"
      },
      "source": [
        "# The distribution of UnitPrice between 0 and 20\r\n",
        "sns.set_style('whitegrid')\r\n",
        "plt.figure(figsize=(8,6))\r\n",
        "sns.distplot(df_product[(df_product['UnitPrice']>0)&(df_product['UnitPrice']<20)]['UnitPrice'], bins=10, hist=True, norm_hist=True, kde=True, hist_kws={'edgecolor':'black'}, color='blue')"
      ],
      "execution_count": 15,
      "outputs": [
        {
          "output_type": "stream",
          "text": [
            "/usr/local/lib/python3.6/dist-packages/seaborn/distributions.py:2557: FutureWarning: `distplot` is a deprecated function and will be removed in a future version. Please adapt your code to use either `displot` (a figure-level function with similar flexibility) or `histplot` (an axes-level function for histograms).\n",
            "  warnings.warn(msg, FutureWarning)\n"
          ],
          "name": "stderr"
        },
        {
          "output_type": "execute_result",
          "data": {
            "text/plain": [
              "<matplotlib.axes._subplots.AxesSubplot at 0x7f2bfff314e0>"
            ]
          },
          "metadata": {
            "tags": []
          },
          "execution_count": 15
        },
        {
          "output_type": "display_data",
          "data": {
            "image/png": "[encoded data removed]",
            "text/plain": [
              "<Figure size 576x432 with 1 Axes>"
            ]
          },
          "metadata": {
            "tags": []
          }
        }
      ]
    },
    {
      "cell_type": "markdown",
      "metadata": {
        "id": "ECwL28-HG-nB"
      },
      "source": [
        "The most of products have their prices between 0 and 5. Let's see the distribution of UnitPrice in this range in more detail."
      ]
    },
    {
      "cell_type": "code",
      "metadata": {
        "colab": {
          "base_uri": "https://localhost:8080/",
          "height": 459
        },
        "id": "GFhZsP-PGlYt",
        "outputId": "938f18a7-ba0d-4c06-b378-6222f5436a9c"
      },
      "source": [
        "plt.figure(figsize=(8,6))\r\n",
        "sns.distplot(df_product[(df_product['UnitPrice']>0)&(df_product['UnitPrice']<5)]['UnitPrice'], bins=10, hist=True, norm_hist=True, kde=True, hist_kws={'edgecolor':'black'}, color='blue')"
      ],
      "execution_count": 16,
      "outputs": [
        {
          "output_type": "stream",
          "text": [
            "/usr/local/lib/python3.6/dist-packages/seaborn/distributions.py:2557: FutureWarning: `distplot` is a deprecated function and will be removed in a future version. Please adapt your code to use either `displot` (a figure-level function with similar flexibility) or `histplot` (an axes-level function for histograms).\n",
            "  warnings.warn(msg, FutureWarning)\n"
          ],
          "name": "stderr"
        },
        {
          "output_type": "execute_result",
          "data": {
            "text/plain": [
              "<matplotlib.axes._subplots.AxesSubplot at 0x7f2bfef19898>"
            ]
          },
          "metadata": {
            "tags": []
          },
          "execution_count": 16
        },
        {
          "output_type": "display_data",
          "data": {
            "image/png": "[encoded data removed]",
            "text/plain": [
              "<Figure size 576x432 with 1 Axes>"
            ]
          },
          "metadata": {
            "tags": []
          }
        }
      ]
    },
    {
      "cell_type": "markdown",
      "metadata": {
        "id": "jIk5Lm_4HO1z"
      },
      "source": [
        "The prices of many products are located between 0 and 2 in the data. However, as a single bin of the price range, the range between 2.5 and 3 has the most products."
      ]
    },
    {
      "cell_type": "markdown",
      "metadata": {
        "id": "5N5BCbrqQze6"
      },
      "source": [
        "#### The Relationship between Price and Quantity"
      ]
    },
    {
      "cell_type": "markdown",
      "metadata": {
        "id": "ndX1Q9wHQ5n0"
      },
      "source": [
        "The most interesting relationship of the price of a product is between the price and the quantity ordered. Since there's no info about categories or sub-categories of products, it's hard to see the relationships between price and quantity for specific products. Here, let's see the general relationship for all products to see the negative relationship between price and quantity generally. "
      ]
    },
    {
      "cell_type": "code",
      "metadata": {
        "colab": {
          "base_uri": "https://localhost:8080/",
          "height": 296
        },
        "id": "Oyswzs-nCPiA",
        "outputId": "c8153d25-df5f-4bfb-8015-6f47531c20a1"
      },
      "source": [
        "df_scatter = df[(df['UnitPrice'] > 0) & (df['UnitPrice'] < 40) & (df['Quantity'] > 0) & (df['Quantity'] < 400)]\r\n",
        "sns.scatterplot(data = df_scatter,x='Quantity',y='UnitPrice')"
      ],
      "execution_count": 17,
      "outputs": [
        {
          "output_type": "execute_result",
          "data": {
            "text/plain": [
              "<matplotlib.axes._subplots.AxesSubplot at 0x7f2bfef32d68>"
            ]
          },
          "metadata": {
            "tags": []
          },
          "execution_count": 17
        },
        {
          "output_type": "display_data",
          "data": {
            "image/png": "[encoded data removed]",
            "text/plain": [
              "<Figure size 432x288 with 1 Axes>"
            ]
          },
          "metadata": {
            "tags": []
          }
        }
      ]
    },
    {
      "cell_type": "markdown",
      "metadata": {
        "id": "R3eGOEZJXFx_"
      },
      "source": [
        "### Country"
      ]
    },
    {
      "cell_type": "code",
      "metadata": {
        "colab": {
          "base_uri": "https://localhost:8080/",
          "height": 631
        },
        "id": "VWyhGTL4XDCR",
        "outputId": "9f76d8c2-9671-4be6-edb6-97ebfbf65be4"
      },
      "source": [
        "a = len(df.Country)\r\n",
        "plt.figure(figsize=(14,7))\r\n",
        "plt.bar(df.Country.value_counts().keys()[:8], (df.Country.value_counts().values/a)[:8])\r\n",
        "plt.yticks(np.arange(0,1,0.1))\r\n",
        "plt.ylabel('Proportion')\r\n",
        "plt.title('The Proportions of Countries for Orders')\r\n",
        "df.Country.value_counts()[:10]"
      ],
      "execution_count": 18,
      "outputs": [
        {
          "output_type": "execute_result",
          "data": {
            "text/plain": [
              "United Kingdom    482479\n",
              "Germany             9027\n",
              "France              8393\n",
              "EIRE                7883\n",
              "Spain               2480\n",
              "Netherlands         2363\n",
              "Belgium             2031\n",
              "Switzerland         1959\n",
              "Portugal            1492\n",
              "Australia           1184\n",
              "Name: Country, dtype: int64"
            ]
          },
          "metadata": {
            "tags": []
          },
          "execution_count": 18
        },
        {
          "output_type": "display_data",
          "data": {
            "image/png": "[encoded data removed]",
            "text/plain": [
              "<Figure size 1008x504 with 1 Axes>"
            ]
          },
          "metadata": {
            "tags": []
          }
        }
      ]
    },
    {
      "cell_type": "markdown",
      "metadata": {
        "id": "x_DrmRXGdmal"
      },
      "source": [
        "The most of orders in the data were made by United Kingdom. Considering the efficiency and accuracy of the analysis, it is better to limit the data only to the orders made by United Kingdom. "
      ]
    },
    {
      "cell_type": "code",
      "metadata": {
        "id": "mUx8lmDBr4CP",
        "colab": {
          "base_uri": "https://localhost:8080/"
        },
        "outputId": "26b75ec6-436d-49a4-8fd3-dee16ec0c488"
      },
      "source": [
        "df_UK = df[df.Country == 'United Kingdom']\r\n",
        "df_UK.shape"
      ],
      "execution_count": 19,
      "outputs": [
        {
          "output_type": "execute_result",
          "data": {
            "text/plain": [
              "(482479, 8)"
            ]
          },
          "metadata": {
            "tags": []
          },
          "execution_count": 19
        }
      ]
    },
    {
      "cell_type": "markdown",
      "metadata": {
        "id": "hhnXN86Xkbkn"
      },
      "source": [
        "## Missing Values"
      ]
    },
    {
      "cell_type": "code",
      "metadata": {
        "id": "HPydL6GGkhaq"
      },
      "source": [
        "import missingno as msno"
      ],
      "execution_count": 20,
      "outputs": []
    },
    {
      "cell_type": "code",
      "metadata": {
        "colab": {
          "base_uri": "https://localhost:8080/",
          "height": 873
        },
        "id": "EyPih_U-knma",
        "outputId": "be28a556-5aa7-4f4d-a574-0aa7daac1c64"
      },
      "source": [
        "msno.bar(df)\r\n",
        "df.isnull().sum()"
      ],
      "execution_count": 21,
      "outputs": [
        {
          "output_type": "execute_result",
          "data": {
            "text/plain": [
              "InvoiceNo           0\n",
              "StockCode           0\n",
              "Description      1454\n",
              "Quantity            0\n",
              "InvoiceDate         0\n",
              "UnitPrice           0\n",
              "CustomerID     134658\n",
              "Country             0\n",
              "dtype: int64"
            ]
          },
          "metadata": {
            "tags": []
          },
          "execution_count": 21
        },
        {
          "output_type": "display_data",
          "data": {
            "image/png": "[encoded data removed]",
            "text/plain": [
              "<Figure size 1728x720 with 3 Axes>"
            ]
          },
          "metadata": {
            "tags": []
          }
        }
      ]
    },
    {
      "cell_type": "markdown",
      "metadata": {
        "id": "T-QHrl7Ayyr2"
      },
      "source": [
        "The identification of CustomerID is essential for this analsys. Therefore, instead of replacing the missing values for alternative values, the records with missing values in CustomerID are removed from the data."
      ]
    },
    {
      "cell_type": "code",
      "metadata": {
        "id": "12qJipykkxdK"
      },
      "source": [
        "df = df[df['CustomerID'].notnull()]"
      ],
      "execution_count": 22,
      "outputs": []
    },
    {
      "cell_type": "markdown",
      "metadata": {
        "id": "uFTrGXmizmOJ"
      },
      "source": [
        "## Cohort Analysis"
      ]
    },
    {
      "cell_type": "code",
      "metadata": {
        "colab": {
          "base_uri": "https://localhost:8080/"
        },
        "id": "OG7B-41R4NEp",
        "outputId": "dc248bd1-c9c2-401a-cb7d-c14e739b5760"
      },
      "source": [
        "# keep only CustomerID, InvoiceNo, and InvoiceDate and remove duplicates\r\n",
        "df_cohort = df[['CustomerID','InvoiceNo','InvoiceDate']].drop_duplicates()\r\n",
        "df_cohort.shape"
      ],
      "execution_count": 23,
      "outputs": [
        {
          "output_type": "execute_result",
          "data": {
            "text/plain": [
              "(18566, 3)"
            ]
          },
          "metadata": {
            "tags": []
          },
          "execution_count": 23
        }
      ]
    },
    {
      "cell_type": "code",
      "metadata": {
        "id": "wjiAVZtw4bEm",
        "colab": {
          "base_uri": "https://localhost:8080/"
        },
        "outputId": "ee7e23d5-7ec8-4de9-d209-2ffa87eb6aa6"
      },
      "source": [
        "df_cohort.info()"
      ],
      "execution_count": 24,
      "outputs": [
        {
          "output_type": "stream",
          "text": [
            "<class 'pandas.core.frame.DataFrame'>\n",
            "Int64Index: 18566 entries, 0 to 541894\n",
            "Data columns (total 3 columns):\n",
            " #   Column       Non-Null Count  Dtype  \n",
            "---  ------       --------------  -----  \n",
            " 0   CustomerID   18566 non-null  float64\n",
            " 1   InvoiceNo    18566 non-null  object \n",
            " 2   InvoiceDate  18566 non-null  object \n",
            "dtypes: float64(1), object(2)\n",
            "memory usage: 580.2+ KB\n"
          ],
          "name": "stdout"
        }
      ]
    },
    {
      "cell_type": "code",
      "metadata": {
        "id": "8JcSA2io4oTX"
      },
      "source": [
        "# Convert the formate of InvoiceDate to datetime\r\n",
        "df_cohort['InvoiceDate'] = pd.to_datetime(df_cohort['InvoiceDate']).dt.date.astype('datetime64')"
      ],
      "execution_count": 25,
      "outputs": []
    },
    {
      "cell_type": "code",
      "metadata": {
        "id": "9_OqqaSk4-PA"
      },
      "source": [
        "# create Invoice Year and Month columns\r\n",
        "df_cohort['InvoiceYear'] = pd.to_datetime(df_cohort['InvoiceDate']).dt.year\r\n",
        "df_cohort['InvoiceMonth'] = pd.to_datetime(df_cohort['InvoiceDate']).dt.month"
      ],
      "execution_count": 26,
      "outputs": []
    },
    {
      "cell_type": "code",
      "metadata": {
        "id": "Z3wkB0iI7PNn"
      },
      "source": [
        "# create the columns for the year and month that each customer used the e-commerce service\r\n",
        "df_cohort['FirstDate'] = df_cohort.groupby('CustomerID')['InvoiceDate'].transform('min')\r\n",
        "df_cohort['FirstYear'] = pd.to_datetime(df_cohort['FirstDate']).dt.year\r\n",
        "df_cohort['FirstMonth'] = pd.to_datetime(df_cohort['FirstDate']).dt.month"
      ],
      "execution_count": 27,
      "outputs": []
    },
    {
      "cell_type": "code",
      "metadata": {
        "id": "_55Z4e0VBcN3"
      },
      "source": [
        "# create the Index column showing how more months it took for the transaction to be made since the customer first used the e-commerce service\r\n",
        "df_cohort['Index'] = (df_cohort['InvoiceYear'] - df_cohort['FirstYear'])*12 + (df_cohort['InvoiceMonth'] - df_cohort['FirstMonth'])"
      ],
      "execution_count": 28,
      "outputs": []
    },
    {
      "cell_type": "code",
      "metadata": {
        "id": "I1ZUtNGKG5-A"
      },
      "source": [
        "df_index = df_cohort[['CustomerID','FirstYear','FirstMonth','Index']]"
      ],
      "execution_count": 29,
      "outputs": []
    },
    {
      "cell_type": "code",
      "metadata": {
        "colab": {
          "base_uri": "https://localhost:8080/",
          "height": 419
        },
        "id": "YeiLGZYpIf5I",
        "outputId": "7df1aee1-0966-4be0-a14c-f01b963ab764"
      },
      "source": [
        "group_index = df_index.groupby(['FirstYear','FirstMonth','Index'], as_index=False).nunique()\r\n",
        "group_index.rename(columns={'FirstYear':'Year', 'FirstMonth':'Month', 'CustomerID':'Counts'}, inplace=True)\r\n",
        "group_index"
      ],
      "execution_count": 30,
      "outputs": [
        {
          "output_type": "execute_result",
          "data": {
            "text/html": [
              "<div>\n",
              "<style scoped>\n",
              "    .dataframe tbody tr th:only-of-type {\n",
              "        vertical-align: middle;\n",
              "    }\n",
              "\n",
              "    .dataframe tbody tr th {\n",
              "        vertical-align: top;\n",
              "    }\n",
              "\n",
              "    .dataframe thead th {\n",
              "        text-align: right;\n",
              "    }\n",
              "</style>\n",
              "<table border=\"1\" class=\"dataframe\">\n",
              "  <thead>\n",
              "    <tr style=\"text-align: right;\">\n",
              "      <th></th>\n",
              "      <th>Year</th>\n",
              "      <th>Month</th>\n",
              "      <th>Index</th>\n",
              "      <th>Counts</th>\n",
              "    </tr>\n",
              "  </thead>\n",
              "  <tbody>\n",
              "    <tr>\n",
              "      <th>0</th>\n",
              "      <td>2010</td>\n",
              "      <td>12</td>\n",
              "      <td>0</td>\n",
              "      <td>885</td>\n",
              "    </tr>\n",
              "    <tr>\n",
              "      <th>1</th>\n",
              "      <td>2010</td>\n",
              "      <td>12</td>\n",
              "      <td>1</td>\n",
              "      <td>324</td>\n",
              "    </tr>\n",
              "    <tr>\n",
              "      <th>2</th>\n",
              "      <td>2010</td>\n",
              "      <td>12</td>\n",
              "      <td>2</td>\n",
              "      <td>286</td>\n",
              "    </tr>\n",
              "    <tr>\n",
              "      <th>3</th>\n",
              "      <td>2010</td>\n",
              "      <td>12</td>\n",
              "      <td>3</td>\n",
              "      <td>340</td>\n",
              "    </tr>\n",
              "    <tr>\n",
              "      <th>4</th>\n",
              "      <td>2010</td>\n",
              "      <td>12</td>\n",
              "      <td>4</td>\n",
              "      <td>321</td>\n",
              "    </tr>\n",
              "    <tr>\n",
              "      <th>...</th>\n",
              "      <td>...</td>\n",
              "      <td>...</td>\n",
              "      <td>...</td>\n",
              "      <td>...</td>\n",
              "    </tr>\n",
              "    <tr>\n",
              "      <th>86</th>\n",
              "      <td>2011</td>\n",
              "      <td>10</td>\n",
              "      <td>1</td>\n",
              "      <td>86</td>\n",
              "    </tr>\n",
              "    <tr>\n",
              "      <th>87</th>\n",
              "      <td>2011</td>\n",
              "      <td>10</td>\n",
              "      <td>2</td>\n",
              "      <td>41</td>\n",
              "    </tr>\n",
              "    <tr>\n",
              "      <th>88</th>\n",
              "      <td>2011</td>\n",
              "      <td>11</td>\n",
              "      <td>0</td>\n",
              "      <td>324</td>\n",
              "    </tr>\n",
              "    <tr>\n",
              "      <th>89</th>\n",
              "      <td>2011</td>\n",
              "      <td>11</td>\n",
              "      <td>1</td>\n",
              "      <td>36</td>\n",
              "    </tr>\n",
              "    <tr>\n",
              "      <th>90</th>\n",
              "      <td>2011</td>\n",
              "      <td>12</td>\n",
              "      <td>0</td>\n",
              "      <td>41</td>\n",
              "    </tr>\n",
              "  </tbody>\n",
              "</table>\n",
              "<p>91 rows × 4 columns</p>\n",
              "</div>"
            ],
            "text/plain": [
              "    Year  Month  Index  Counts\n",
              "0   2010     12      0     885\n",
              "1   2010     12      1     324\n",
              "2   2010     12      2     286\n",
              "3   2010     12      3     340\n",
              "4   2010     12      4     321\n",
              "..   ...    ...    ...     ...\n",
              "86  2011     10      1      86\n",
              "87  2011     10      2      41\n",
              "88  2011     11      0     324\n",
              "89  2011     11      1      36\n",
              "90  2011     12      0      41\n",
              "\n",
              "[91 rows x 4 columns]"
            ]
          },
          "metadata": {
            "tags": []
          },
          "execution_count": 30
        }
      ]
    },
    {
      "cell_type": "markdown",
      "metadata": {
        "id": "2GdR87GpSdTk"
      },
      "source": [
        "### Cohort Analysis Based on the Number of Customers"
      ]
    },
    {
      "cell_type": "code",
      "metadata": {
        "colab": {
          "base_uri": "https://localhost:8080/",
          "height": 483
        },
        "id": "gibJ_6gbJA6P",
        "outputId": "6046a840-6044-4914-ed86-ddce10befc49"
      },
      "source": [
        "cohort_matrix = group_index.pivot(index=['Year','Month'], columns='Index', values='Counts')\r\n",
        "cohort_matrix"
      ],
      "execution_count": 31,
      "outputs": [
        {
          "output_type": "execute_result",
          "data": {
            "text/html": [
              "<div>\n",
              "<style scoped>\n",
              "    .dataframe tbody tr th:only-of-type {\n",
              "        vertical-align: middle;\n",
              "    }\n",
              "\n",
              "    .dataframe tbody tr th {\n",
              "        vertical-align: top;\n",
              "    }\n",
              "\n",
              "    .dataframe thead th {\n",
              "        text-align: right;\n",
              "    }\n",
              "</style>\n",
              "<table border=\"1\" class=\"dataframe\">\n",
              "  <thead>\n",
              "    <tr style=\"text-align: right;\">\n",
              "      <th></th>\n",
              "      <th>Index</th>\n",
              "      <th>0</th>\n",
              "      <th>1</th>\n",
              "      <th>2</th>\n",
              "      <th>3</th>\n",
              "      <th>4</th>\n",
              "      <th>5</th>\n",
              "      <th>6</th>\n",
              "      <th>7</th>\n",
              "      <th>8</th>\n",
              "      <th>9</th>\n",
              "      <th>10</th>\n",
              "      <th>11</th>\n",
              "      <th>12</th>\n",
              "    </tr>\n",
              "    <tr>\n",
              "      <th>Year</th>\n",
              "      <th>Month</th>\n",
              "      <th></th>\n",
              "      <th></th>\n",
              "      <th></th>\n",
              "      <th></th>\n",
              "      <th></th>\n",
              "      <th></th>\n",
              "      <th></th>\n",
              "      <th></th>\n",
              "      <th></th>\n",
              "      <th></th>\n",
              "      <th></th>\n",
              "      <th></th>\n",
              "      <th></th>\n",
              "    </tr>\n",
              "  </thead>\n",
              "  <tbody>\n",
              "    <tr>\n",
              "      <th>2010</th>\n",
              "      <th>12</th>\n",
              "      <td>885.0</td>\n",
              "      <td>324.0</td>\n",
              "      <td>286.0</td>\n",
              "      <td>340.0</td>\n",
              "      <td>321.0</td>\n",
              "      <td>352.0</td>\n",
              "      <td>321.0</td>\n",
              "      <td>309.0</td>\n",
              "      <td>313.0</td>\n",
              "      <td>350.0</td>\n",
              "      <td>331.0</td>\n",
              "      <td>445.0</td>\n",
              "      <td>235.0</td>\n",
              "    </tr>\n",
              "    <tr>\n",
              "      <th rowspan=\"12\" valign=\"top\">2011</th>\n",
              "      <th>1</th>\n",
              "      <td>417.0</td>\n",
              "      <td>92.0</td>\n",
              "      <td>111.0</td>\n",
              "      <td>96.0</td>\n",
              "      <td>134.0</td>\n",
              "      <td>120.0</td>\n",
              "      <td>103.0</td>\n",
              "      <td>101.0</td>\n",
              "      <td>125.0</td>\n",
              "      <td>136.0</td>\n",
              "      <td>152.0</td>\n",
              "      <td>49.0</td>\n",
              "      <td>NaN</td>\n",
              "    </tr>\n",
              "    <tr>\n",
              "      <th>2</th>\n",
              "      <td>380.0</td>\n",
              "      <td>71.0</td>\n",
              "      <td>71.0</td>\n",
              "      <td>108.0</td>\n",
              "      <td>103.0</td>\n",
              "      <td>94.0</td>\n",
              "      <td>96.0</td>\n",
              "      <td>106.0</td>\n",
              "      <td>94.0</td>\n",
              "      <td>116.0</td>\n",
              "      <td>26.0</td>\n",
              "      <td>NaN</td>\n",
              "      <td>NaN</td>\n",
              "    </tr>\n",
              "    <tr>\n",
              "      <th>3</th>\n",
              "      <td>452.0</td>\n",
              "      <td>68.0</td>\n",
              "      <td>114.0</td>\n",
              "      <td>90.0</td>\n",
              "      <td>101.0</td>\n",
              "      <td>76.0</td>\n",
              "      <td>121.0</td>\n",
              "      <td>104.0</td>\n",
              "      <td>126.0</td>\n",
              "      <td>39.0</td>\n",
              "      <td>NaN</td>\n",
              "      <td>NaN</td>\n",
              "      <td>NaN</td>\n",
              "    </tr>\n",
              "    <tr>\n",
              "      <th>4</th>\n",
              "      <td>300.0</td>\n",
              "      <td>64.0</td>\n",
              "      <td>61.0</td>\n",
              "      <td>63.0</td>\n",
              "      <td>59.0</td>\n",
              "      <td>68.0</td>\n",
              "      <td>65.0</td>\n",
              "      <td>78.0</td>\n",
              "      <td>22.0</td>\n",
              "      <td>NaN</td>\n",
              "      <td>NaN</td>\n",
              "      <td>NaN</td>\n",
              "      <td>NaN</td>\n",
              "    </tr>\n",
              "    <tr>\n",
              "      <th>5</th>\n",
              "      <td>284.0</td>\n",
              "      <td>54.0</td>\n",
              "      <td>49.0</td>\n",
              "      <td>49.0</td>\n",
              "      <td>59.0</td>\n",
              "      <td>66.0</td>\n",
              "      <td>75.0</td>\n",
              "      <td>27.0</td>\n",
              "      <td>NaN</td>\n",
              "      <td>NaN</td>\n",
              "      <td>NaN</td>\n",
              "      <td>NaN</td>\n",
              "      <td>NaN</td>\n",
              "    </tr>\n",
              "    <tr>\n",
              "      <th>6</th>\n",
              "      <td>242.0</td>\n",
              "      <td>42.0</td>\n",
              "      <td>38.0</td>\n",
              "      <td>64.0</td>\n",
              "      <td>56.0</td>\n",
              "      <td>81.0</td>\n",
              "      <td>23.0</td>\n",
              "      <td>NaN</td>\n",
              "      <td>NaN</td>\n",
              "      <td>NaN</td>\n",
              "      <td>NaN</td>\n",
              "      <td>NaN</td>\n",
              "      <td>NaN</td>\n",
              "    </tr>\n",
              "    <tr>\n",
              "      <th>7</th>\n",
              "      <td>188.0</td>\n",
              "      <td>34.0</td>\n",
              "      <td>39.0</td>\n",
              "      <td>42.0</td>\n",
              "      <td>51.0</td>\n",
              "      <td>21.0</td>\n",
              "      <td>NaN</td>\n",
              "      <td>NaN</td>\n",
              "      <td>NaN</td>\n",
              "      <td>NaN</td>\n",
              "      <td>NaN</td>\n",
              "      <td>NaN</td>\n",
              "      <td>NaN</td>\n",
              "    </tr>\n",
              "    <tr>\n",
              "      <th>8</th>\n",
              "      <td>169.0</td>\n",
              "      <td>35.0</td>\n",
              "      <td>42.0</td>\n",
              "      <td>41.0</td>\n",
              "      <td>21.0</td>\n",
              "      <td>NaN</td>\n",
              "      <td>NaN</td>\n",
              "      <td>NaN</td>\n",
              "      <td>NaN</td>\n",
              "      <td>NaN</td>\n",
              "      <td>NaN</td>\n",
              "      <td>NaN</td>\n",
              "      <td>NaN</td>\n",
              "    </tr>\n",
              "    <tr>\n",
              "      <th>9</th>\n",
              "      <td>299.0</td>\n",
              "      <td>70.0</td>\n",
              "      <td>90.0</td>\n",
              "      <td>34.0</td>\n",
              "      <td>NaN</td>\n",
              "      <td>NaN</td>\n",
              "      <td>NaN</td>\n",
              "      <td>NaN</td>\n",
              "      <td>NaN</td>\n",
              "      <td>NaN</td>\n",
              "      <td>NaN</td>\n",
              "      <td>NaN</td>\n",
              "      <td>NaN</td>\n",
              "    </tr>\n",
              "    <tr>\n",
              "      <th>10</th>\n",
              "      <td>358.0</td>\n",
              "      <td>86.0</td>\n",
              "      <td>41.0</td>\n",
              "      <td>NaN</td>\n",
              "      <td>NaN</td>\n",
              "      <td>NaN</td>\n",
              "      <td>NaN</td>\n",
              "      <td>NaN</td>\n",
              "      <td>NaN</td>\n",
              "      <td>NaN</td>\n",
              "      <td>NaN</td>\n",
              "      <td>NaN</td>\n",
              "      <td>NaN</td>\n",
              "    </tr>\n",
              "    <tr>\n",
              "      <th>11</th>\n",
              "      <td>324.0</td>\n",
              "      <td>36.0</td>\n",
              "      <td>NaN</td>\n",
              "      <td>NaN</td>\n",
              "      <td>NaN</td>\n",
              "      <td>NaN</td>\n",
              "      <td>NaN</td>\n",
              "      <td>NaN</td>\n",
              "      <td>NaN</td>\n",
              "      <td>NaN</td>\n",
              "      <td>NaN</td>\n",
              "      <td>NaN</td>\n",
              "      <td>NaN</td>\n",
              "    </tr>\n",
              "    <tr>\n",
              "      <th>12</th>\n",
              "      <td>41.0</td>\n",
              "      <td>NaN</td>\n",
              "      <td>NaN</td>\n",
              "      <td>NaN</td>\n",
              "      <td>NaN</td>\n",
              "      <td>NaN</td>\n",
              "      <td>NaN</td>\n",
              "      <td>NaN</td>\n",
              "      <td>NaN</td>\n",
              "      <td>NaN</td>\n",
              "      <td>NaN</td>\n",
              "      <td>NaN</td>\n",
              "      <td>NaN</td>\n",
              "    </tr>\n",
              "  </tbody>\n",
              "</table>\n",
              "</div>"
            ],
            "text/plain": [
              "Index          0      1      2      3   ...     9      10     11     12\n",
              "Year Month                              ...                            \n",
              "2010 12     885.0  324.0  286.0  340.0  ...  350.0  331.0  445.0  235.0\n",
              "2011 1      417.0   92.0  111.0   96.0  ...  136.0  152.0   49.0    NaN\n",
              "     2      380.0   71.0   71.0  108.0  ...  116.0   26.0    NaN    NaN\n",
              "     3      452.0   68.0  114.0   90.0  ...   39.0    NaN    NaN    NaN\n",
              "     4      300.0   64.0   61.0   63.0  ...    NaN    NaN    NaN    NaN\n",
              "     5      284.0   54.0   49.0   49.0  ...    NaN    NaN    NaN    NaN\n",
              "     6      242.0   42.0   38.0   64.0  ...    NaN    NaN    NaN    NaN\n",
              "     7      188.0   34.0   39.0   42.0  ...    NaN    NaN    NaN    NaN\n",
              "     8      169.0   35.0   42.0   41.0  ...    NaN    NaN    NaN    NaN\n",
              "     9      299.0   70.0   90.0   34.0  ...    NaN    NaN    NaN    NaN\n",
              "     10     358.0   86.0   41.0    NaN  ...    NaN    NaN    NaN    NaN\n",
              "     11     324.0   36.0    NaN    NaN  ...    NaN    NaN    NaN    NaN\n",
              "     12      41.0    NaN    NaN    NaN  ...    NaN    NaN    NaN    NaN\n",
              "\n",
              "[13 rows x 13 columns]"
            ]
          },
          "metadata": {
            "tags": []
          },
          "execution_count": 31
        }
      ]
    },
    {
      "cell_type": "markdown",
      "metadata": {
        "id": "yOMjXvVhSutW"
      },
      "source": [
        "The chart above shows how the customers who used the ecommerce service first used again the service over time. For example, the number in the first row and the first column, 885, represents the number of customers who used the service first in 2010 Dec. The number in the right side, 324, indicates how many customers used the service again in the next month out of the 885 customers. The number in the first row and the third column, 286, indicates the number of customers who used the service again after two months since the first use of the service. \r\n",
        "\r\n",
        "According to this chart, we are not sure how many times the each customer used the service again because each number in the chart only tells us the aggregate number of customers N months after the first use of the service. Out of 286 customers in the first row and the third column, some customers might use the service in the previous month as well or some of them might not. \r\n",
        "\r\n",
        "The number in the second row and the first column, 417, is the number of customers who used the service first in 2011 Jan. 92, which is on the right side of 417, indicates the number of the customers who used it again in the next month out of 417 customers. \r\n",
        "\r\n",
        "According to the first column, we can see the change in the number of new customers over time. In order to see the change more clearly, let's draw the graph for this."
      ]
    },
    {
      "cell_type": "code",
      "metadata": {
        "id": "tLZLlzznX2hD"
      },
      "source": [
        "year_month = np.arange('2010-12', '2012-01', dtype='datetime64[M]')"
      ],
      "execution_count": 32,
      "outputs": []
    },
    {
      "cell_type": "code",
      "metadata": {
        "colab": {
          "base_uri": "https://localhost:8080/",
          "height": 353
        },
        "id": "sbs7aTQTXorL",
        "outputId": "624c8b62-39bb-4ebc-edae-3ac92f62ce00"
      },
      "source": [
        "plt.figure(figsize=(15,5))\r\n",
        "plt.plot(year_month, cohort_matrix.iloc[:,0].values, color='b', marker='o')\r\n",
        "plt.ylabel('The Numer of New Customers')\r\n",
        "plt.title('The Number of New Customers Over Time (2010-12 to 2011-12)')"
      ],
      "execution_count": 33,
      "outputs": [
        {
          "output_type": "execute_result",
          "data": {
            "text/plain": [
              "Text(0.5, 1.0, 'The Number of New Customers Over Time (2010-12 to 2011-12)')"
            ]
          },
          "metadata": {
            "tags": []
          },
          "execution_count": 33
        },
        {
          "output_type": "display_data",
          "data": {
            "image/png": "[encoded data removed]",
            "text/plain": [
              "<Figure size 1080x360 with 1 Axes>"
            ]
          },
          "metadata": {
            "tags": []
          }
        }
      ]
    },
    {
      "cell_type": "markdown",
      "metadata": {
        "id": "4aUAp2yNcrAA"
      },
      "source": [
        "The number of new customers seems to keep decreasing even if there are a couple of temporary risings during the period."
      ]
    },
    {
      "cell_type": "markdown",
      "metadata": {
        "id": "Q8cIWsmoeVyJ"
      },
      "source": [
        "### Cohort Analysis Based on the Retention Rate"
      ]
    },
    {
      "cell_type": "code",
      "metadata": {
        "id": "o4kaX3JbJk43"
      },
      "source": [
        "denominator = cohort_matrix.iloc[:,0]"
      ],
      "execution_count": 34,
      "outputs": []
    },
    {
      "cell_type": "code",
      "metadata": {
        "colab": {
          "base_uri": "https://localhost:8080/",
          "height": 483
        },
        "id": "kOKBG7QF8qaO",
        "outputId": "9bdc47ec-0595-4460-bd94-a55a29d585d9"
      },
      "source": [
        "retention_rate = cohort_matrix.div(denominator, axis=0).round(3).multiply(100, axis=0)\r\n",
        "retention_rate"
      ],
      "execution_count": 35,
      "outputs": [
        {
          "output_type": "execute_result",
          "data": {
            "text/html": [
              "<div>\n",
              "<style scoped>\n",
              "    .dataframe tbody tr th:only-of-type {\n",
              "        vertical-align: middle;\n",
              "    }\n",
              "\n",
              "    .dataframe tbody tr th {\n",
              "        vertical-align: top;\n",
              "    }\n",
              "\n",
              "    .dataframe thead th {\n",
              "        text-align: right;\n",
              "    }\n",
              "</style>\n",
              "<table border=\"1\" class=\"dataframe\">\n",
              "  <thead>\n",
              "    <tr style=\"text-align: right;\">\n",
              "      <th></th>\n",
              "      <th>Index</th>\n",
              "      <th>0</th>\n",
              "      <th>1</th>\n",
              "      <th>2</th>\n",
              "      <th>3</th>\n",
              "      <th>4</th>\n",
              "      <th>5</th>\n",
              "      <th>6</th>\n",
              "      <th>7</th>\n",
              "      <th>8</th>\n",
              "      <th>9</th>\n",
              "      <th>10</th>\n",
              "      <th>11</th>\n",
              "      <th>12</th>\n",
              "    </tr>\n",
              "    <tr>\n",
              "      <th>Year</th>\n",
              "      <th>Month</th>\n",
              "      <th></th>\n",
              "      <th></th>\n",
              "      <th></th>\n",
              "      <th></th>\n",
              "      <th></th>\n",
              "      <th></th>\n",
              "      <th></th>\n",
              "      <th></th>\n",
              "      <th></th>\n",
              "      <th></th>\n",
              "      <th></th>\n",
              "      <th></th>\n",
              "      <th></th>\n",
              "    </tr>\n",
              "  </thead>\n",
              "  <tbody>\n",
              "    <tr>\n",
              "      <th>2010</th>\n",
              "      <th>12</th>\n",
              "      <td>100.0</td>\n",
              "      <td>36.6</td>\n",
              "      <td>32.3</td>\n",
              "      <td>38.4</td>\n",
              "      <td>36.3</td>\n",
              "      <td>39.8</td>\n",
              "      <td>36.3</td>\n",
              "      <td>34.9</td>\n",
              "      <td>35.4</td>\n",
              "      <td>39.5</td>\n",
              "      <td>37.4</td>\n",
              "      <td>50.3</td>\n",
              "      <td>26.6</td>\n",
              "    </tr>\n",
              "    <tr>\n",
              "      <th rowspan=\"12\" valign=\"top\">2011</th>\n",
              "      <th>1</th>\n",
              "      <td>100.0</td>\n",
              "      <td>22.1</td>\n",
              "      <td>26.6</td>\n",
              "      <td>23.0</td>\n",
              "      <td>32.1</td>\n",
              "      <td>28.8</td>\n",
              "      <td>24.7</td>\n",
              "      <td>24.2</td>\n",
              "      <td>30.0</td>\n",
              "      <td>32.6</td>\n",
              "      <td>36.5</td>\n",
              "      <td>11.8</td>\n",
              "      <td>NaN</td>\n",
              "    </tr>\n",
              "    <tr>\n",
              "      <th>2</th>\n",
              "      <td>100.0</td>\n",
              "      <td>18.7</td>\n",
              "      <td>18.7</td>\n",
              "      <td>28.4</td>\n",
              "      <td>27.1</td>\n",
              "      <td>24.7</td>\n",
              "      <td>25.3</td>\n",
              "      <td>27.9</td>\n",
              "      <td>24.7</td>\n",
              "      <td>30.5</td>\n",
              "      <td>6.8</td>\n",
              "      <td>NaN</td>\n",
              "      <td>NaN</td>\n",
              "    </tr>\n",
              "    <tr>\n",
              "      <th>3</th>\n",
              "      <td>100.0</td>\n",
              "      <td>15.0</td>\n",
              "      <td>25.2</td>\n",
              "      <td>19.9</td>\n",
              "      <td>22.3</td>\n",
              "      <td>16.8</td>\n",
              "      <td>26.8</td>\n",
              "      <td>23.0</td>\n",
              "      <td>27.9</td>\n",
              "      <td>8.6</td>\n",
              "      <td>NaN</td>\n",
              "      <td>NaN</td>\n",
              "      <td>NaN</td>\n",
              "    </tr>\n",
              "    <tr>\n",
              "      <th>4</th>\n",
              "      <td>100.0</td>\n",
              "      <td>21.3</td>\n",
              "      <td>20.3</td>\n",
              "      <td>21.0</td>\n",
              "      <td>19.7</td>\n",
              "      <td>22.7</td>\n",
              "      <td>21.7</td>\n",
              "      <td>26.0</td>\n",
              "      <td>7.3</td>\n",
              "      <td>NaN</td>\n",
              "      <td>NaN</td>\n",
              "      <td>NaN</td>\n",
              "      <td>NaN</td>\n",
              "    </tr>\n",
              "    <tr>\n",
              "      <th>5</th>\n",
              "      <td>100.0</td>\n",
              "      <td>19.0</td>\n",
              "      <td>17.3</td>\n",
              "      <td>17.3</td>\n",
              "      <td>20.8</td>\n",
              "      <td>23.2</td>\n",
              "      <td>26.4</td>\n",
              "      <td>9.5</td>\n",
              "      <td>NaN</td>\n",
              "      <td>NaN</td>\n",
              "      <td>NaN</td>\n",
              "      <td>NaN</td>\n",
              "      <td>NaN</td>\n",
              "    </tr>\n",
              "    <tr>\n",
              "      <th>6</th>\n",
              "      <td>100.0</td>\n",
              "      <td>17.4</td>\n",
              "      <td>15.7</td>\n",
              "      <td>26.4</td>\n",
              "      <td>23.1</td>\n",
              "      <td>33.5</td>\n",
              "      <td>9.5</td>\n",
              "      <td>NaN</td>\n",
              "      <td>NaN</td>\n",
              "      <td>NaN</td>\n",
              "      <td>NaN</td>\n",
              "      <td>NaN</td>\n",
              "      <td>NaN</td>\n",
              "    </tr>\n",
              "    <tr>\n",
              "      <th>7</th>\n",
              "      <td>100.0</td>\n",
              "      <td>18.1</td>\n",
              "      <td>20.7</td>\n",
              "      <td>22.3</td>\n",
              "      <td>27.1</td>\n",
              "      <td>11.2</td>\n",
              "      <td>NaN</td>\n",
              "      <td>NaN</td>\n",
              "      <td>NaN</td>\n",
              "      <td>NaN</td>\n",
              "      <td>NaN</td>\n",
              "      <td>NaN</td>\n",
              "      <td>NaN</td>\n",
              "    </tr>\n",
              "    <tr>\n",
              "      <th>8</th>\n",
              "      <td>100.0</td>\n",
              "      <td>20.7</td>\n",
              "      <td>24.9</td>\n",
              "      <td>24.3</td>\n",
              "      <td>12.4</td>\n",
              "      <td>NaN</td>\n",
              "      <td>NaN</td>\n",
              "      <td>NaN</td>\n",
              "      <td>NaN</td>\n",
              "      <td>NaN</td>\n",
              "      <td>NaN</td>\n",
              "      <td>NaN</td>\n",
              "      <td>NaN</td>\n",
              "    </tr>\n",
              "    <tr>\n",
              "      <th>9</th>\n",
              "      <td>100.0</td>\n",
              "      <td>23.4</td>\n",
              "      <td>30.1</td>\n",
              "      <td>11.4</td>\n",
              "      <td>NaN</td>\n",
              "      <td>NaN</td>\n",
              "      <td>NaN</td>\n",
              "      <td>NaN</td>\n",
              "      <td>NaN</td>\n",
              "      <td>NaN</td>\n",
              "      <td>NaN</td>\n",
              "      <td>NaN</td>\n",
              "      <td>NaN</td>\n",
              "    </tr>\n",
              "    <tr>\n",
              "      <th>10</th>\n",
              "      <td>100.0</td>\n",
              "      <td>24.0</td>\n",
              "      <td>11.5</td>\n",
              "      <td>NaN</td>\n",
              "      <td>NaN</td>\n",
              "      <td>NaN</td>\n",
              "      <td>NaN</td>\n",
              "      <td>NaN</td>\n",
              "      <td>NaN</td>\n",
              "      <td>NaN</td>\n",
              "      <td>NaN</td>\n",
              "      <td>NaN</td>\n",
              "      <td>NaN</td>\n",
              "    </tr>\n",
              "    <tr>\n",
              "      <th>11</th>\n",
              "      <td>100.0</td>\n",
              "      <td>11.1</td>\n",
              "      <td>NaN</td>\n",
              "      <td>NaN</td>\n",
              "      <td>NaN</td>\n",
              "      <td>NaN</td>\n",
              "      <td>NaN</td>\n",
              "      <td>NaN</td>\n",
              "      <td>NaN</td>\n",
              "      <td>NaN</td>\n",
              "      <td>NaN</td>\n",
              "      <td>NaN</td>\n",
              "      <td>NaN</td>\n",
              "    </tr>\n",
              "    <tr>\n",
              "      <th>12</th>\n",
              "      <td>100.0</td>\n",
              "      <td>NaN</td>\n",
              "      <td>NaN</td>\n",
              "      <td>NaN</td>\n",
              "      <td>NaN</td>\n",
              "      <td>NaN</td>\n",
              "      <td>NaN</td>\n",
              "      <td>NaN</td>\n",
              "      <td>NaN</td>\n",
              "      <td>NaN</td>\n",
              "      <td>NaN</td>\n",
              "      <td>NaN</td>\n",
              "      <td>NaN</td>\n",
              "    </tr>\n",
              "  </tbody>\n",
              "</table>\n",
              "</div>"
            ],
            "text/plain": [
              "Index          0     1     2     3     4   ...    8     9     10    11    12\n",
              "Year Month                                 ...                              \n",
              "2010 12     100.0  36.6  32.3  38.4  36.3  ...  35.4  39.5  37.4  50.3  26.6\n",
              "2011 1      100.0  22.1  26.6  23.0  32.1  ...  30.0  32.6  36.5  11.8   NaN\n",
              "     2      100.0  18.7  18.7  28.4  27.1  ...  24.7  30.5   6.8   NaN   NaN\n",
              "     3      100.0  15.0  25.2  19.9  22.3  ...  27.9   8.6   NaN   NaN   NaN\n",
              "     4      100.0  21.3  20.3  21.0  19.7  ...   7.3   NaN   NaN   NaN   NaN\n",
              "     5      100.0  19.0  17.3  17.3  20.8  ...   NaN   NaN   NaN   NaN   NaN\n",
              "     6      100.0  17.4  15.7  26.4  23.1  ...   NaN   NaN   NaN   NaN   NaN\n",
              "     7      100.0  18.1  20.7  22.3  27.1  ...   NaN   NaN   NaN   NaN   NaN\n",
              "     8      100.0  20.7  24.9  24.3  12.4  ...   NaN   NaN   NaN   NaN   NaN\n",
              "     9      100.0  23.4  30.1  11.4   NaN  ...   NaN   NaN   NaN   NaN   NaN\n",
              "     10     100.0  24.0  11.5   NaN   NaN  ...   NaN   NaN   NaN   NaN   NaN\n",
              "     11     100.0  11.1   NaN   NaN   NaN  ...   NaN   NaN   NaN   NaN   NaN\n",
              "     12     100.0   NaN   NaN   NaN   NaN  ...   NaN   NaN   NaN   NaN   NaN\n",
              "\n",
              "[13 rows x 13 columns]"
            ]
          },
          "metadata": {
            "tags": []
          },
          "execution_count": 35
        }
      ]
    },
    {
      "cell_type": "code",
      "metadata": {
        "colab": {
          "base_uri": "https://localhost:8080/",
          "height": 512
        },
        "id": "D7vPI7To9Kll",
        "outputId": "5dbd14e3-2b6f-46a0-c9cc-1571313e69a1"
      },
      "source": [
        "plt.figure(figsize=(12,8))\r\n",
        "ax =sns.heatmap(data=retention_rate, annot=True, cmap='crest', fmt='g')\r\n",
        "plt.tick_params(axis='both', which='major', labelsize=10, labelbottom = False, bottom=False, top = False, labeltop=True)\r\n",
        "ax.xaxis.set_label_position('top')\r\n",
        "ax.set_xlabel('Months')\r\n",
        "ax.set_ylabel('')"
      ],
      "execution_count": 36,
      "outputs": [
        {
          "output_type": "execute_result",
          "data": {
            "text/plain": [
              "Text(87.0, 0.5, '')"
            ]
          },
          "metadata": {
            "tags": []
          },
          "execution_count": 36
        },
        {
          "output_type": "display_data",
          "data": {
            "image/png": "[encoded data removed]",
            "text/plain": [
              "<Figure size 864x576 with 2 Axes>"
            ]
          },
          "metadata": {
            "tags": []
          }
        }
      ]
    },
    {
      "cell_type": "markdown",
      "metadata": {
        "id": "9rLW_iMiTCWI"
      },
      "source": [
        "There are a couple of things to mention for the chart above. \r\n",
        "\r\n",
        "1) **The retention rates are the highest for those who used the service first in 2010 Dec.** The retention rates for all months for those who used the service first in 2010 Dec are above 30% while those who used the service first later than 2010 Dec have lower than 30% of the retention rate for several months. \r\n",
        "\r\n",
        "2) **For the row for 2010-12, the retention rate for 11th month (11th column) is about 50% while the retention rates for other months are lower than 40%.** The 11th month for the first row is **November 2011**. This tendency also seems to be shown in the other rows as well. For example, for the row for 2011-01, the tenth month, which is November in 2011, has the highest retention rate, 36.5%. For the row for 2011-02, the ninth month (November 2011) has the highest retention rate, 30.5%.        "
      ]
    },
    {
      "cell_type": "markdown",
      "metadata": {
        "id": "AMqbT1VUZbid"
      },
      "source": [
        "## Final Thoughts"
      ]
    },
    {
      "cell_type": "markdown",
      "metadata": {
        "id": "9eKT4OduZfVj"
      },
      "source": [
        "Here, I implemented the cohort analysis using the UK e-commerce data set. Cohort analysis is a useful tool to see the pattern or behavior of customers, which are in the same cohort, over time. "
      ]
    }
  ]
}